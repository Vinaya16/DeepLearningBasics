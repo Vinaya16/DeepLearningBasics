{
 "cells": [
  {
   "cell_type": "markdown",
   "metadata": {},
   "source": [
    "### get data from https://www.kaggle.com/c/digit-recognizer/data?select=train.csv"
   ]
  },
  {
   "cell_type": "code",
   "execution_count": 21,
   "metadata": {},
   "outputs": [
    {
     "data": {
      "text/html": [
       "<div>\n",
       "<style scoped>\n",
       "    .dataframe tbody tr th:only-of-type {\n",
       "        vertical-align: middle;\n",
       "    }\n",
       "\n",
       "    .dataframe tbody tr th {\n",
       "        vertical-align: top;\n",
       "    }\n",
       "\n",
       "    .dataframe thead th {\n",
       "        text-align: right;\n",
       "    }\n",
       "</style>\n",
       "<table border=\"1\" class=\"dataframe\">\n",
       "  <thead>\n",
       "    <tr style=\"text-align: right;\">\n",
       "      <th></th>\n",
       "      <th>label</th>\n",
       "      <th>pixel0</th>\n",
       "      <th>pixel1</th>\n",
       "      <th>pixel2</th>\n",
       "      <th>pixel3</th>\n",
       "      <th>pixel4</th>\n",
       "      <th>pixel5</th>\n",
       "      <th>pixel6</th>\n",
       "      <th>pixel7</th>\n",
       "      <th>pixel8</th>\n",
       "      <th>...</th>\n",
       "      <th>pixel774</th>\n",
       "      <th>pixel775</th>\n",
       "      <th>pixel776</th>\n",
       "      <th>pixel777</th>\n",
       "      <th>pixel778</th>\n",
       "      <th>pixel779</th>\n",
       "      <th>pixel780</th>\n",
       "      <th>pixel781</th>\n",
       "      <th>pixel782</th>\n",
       "      <th>pixel783</th>\n",
       "    </tr>\n",
       "  </thead>\n",
       "  <tbody>\n",
       "    <tr>\n",
       "      <th>0</th>\n",
       "      <td>1</td>\n",
       "      <td>0</td>\n",
       "      <td>0</td>\n",
       "      <td>0</td>\n",
       "      <td>0</td>\n",
       "      <td>0</td>\n",
       "      <td>0</td>\n",
       "      <td>0</td>\n",
       "      <td>0</td>\n",
       "      <td>0</td>\n",
       "      <td>...</td>\n",
       "      <td>0</td>\n",
       "      <td>0</td>\n",
       "      <td>0</td>\n",
       "      <td>0</td>\n",
       "      <td>0</td>\n",
       "      <td>0</td>\n",
       "      <td>0</td>\n",
       "      <td>0</td>\n",
       "      <td>0</td>\n",
       "      <td>0</td>\n",
       "    </tr>\n",
       "    <tr>\n",
       "      <th>1</th>\n",
       "      <td>0</td>\n",
       "      <td>0</td>\n",
       "      <td>0</td>\n",
       "      <td>0</td>\n",
       "      <td>0</td>\n",
       "      <td>0</td>\n",
       "      <td>0</td>\n",
       "      <td>0</td>\n",
       "      <td>0</td>\n",
       "      <td>0</td>\n",
       "      <td>...</td>\n",
       "      <td>0</td>\n",
       "      <td>0</td>\n",
       "      <td>0</td>\n",
       "      <td>0</td>\n",
       "      <td>0</td>\n",
       "      <td>0</td>\n",
       "      <td>0</td>\n",
       "      <td>0</td>\n",
       "      <td>0</td>\n",
       "      <td>0</td>\n",
       "    </tr>\n",
       "    <tr>\n",
       "      <th>2</th>\n",
       "      <td>1</td>\n",
       "      <td>0</td>\n",
       "      <td>0</td>\n",
       "      <td>0</td>\n",
       "      <td>0</td>\n",
       "      <td>0</td>\n",
       "      <td>0</td>\n",
       "      <td>0</td>\n",
       "      <td>0</td>\n",
       "      <td>0</td>\n",
       "      <td>...</td>\n",
       "      <td>0</td>\n",
       "      <td>0</td>\n",
       "      <td>0</td>\n",
       "      <td>0</td>\n",
       "      <td>0</td>\n",
       "      <td>0</td>\n",
       "      <td>0</td>\n",
       "      <td>0</td>\n",
       "      <td>0</td>\n",
       "      <td>0</td>\n",
       "    </tr>\n",
       "    <tr>\n",
       "      <th>3</th>\n",
       "      <td>4</td>\n",
       "      <td>0</td>\n",
       "      <td>0</td>\n",
       "      <td>0</td>\n",
       "      <td>0</td>\n",
       "      <td>0</td>\n",
       "      <td>0</td>\n",
       "      <td>0</td>\n",
       "      <td>0</td>\n",
       "      <td>0</td>\n",
       "      <td>...</td>\n",
       "      <td>0</td>\n",
       "      <td>0</td>\n",
       "      <td>0</td>\n",
       "      <td>0</td>\n",
       "      <td>0</td>\n",
       "      <td>0</td>\n",
       "      <td>0</td>\n",
       "      <td>0</td>\n",
       "      <td>0</td>\n",
       "      <td>0</td>\n",
       "    </tr>\n",
       "    <tr>\n",
       "      <th>4</th>\n",
       "      <td>0</td>\n",
       "      <td>0</td>\n",
       "      <td>0</td>\n",
       "      <td>0</td>\n",
       "      <td>0</td>\n",
       "      <td>0</td>\n",
       "      <td>0</td>\n",
       "      <td>0</td>\n",
       "      <td>0</td>\n",
       "      <td>0</td>\n",
       "      <td>...</td>\n",
       "      <td>0</td>\n",
       "      <td>0</td>\n",
       "      <td>0</td>\n",
       "      <td>0</td>\n",
       "      <td>0</td>\n",
       "      <td>0</td>\n",
       "      <td>0</td>\n",
       "      <td>0</td>\n",
       "      <td>0</td>\n",
       "      <td>0</td>\n",
       "    </tr>\n",
       "  </tbody>\n",
       "</table>\n",
       "<p>5 rows × 785 columns</p>\n",
       "</div>"
      ],
      "text/plain": [
       "   label  pixel0  pixel1  pixel2  pixel3  pixel4  pixel5  pixel6  pixel7  \\\n",
       "0      1       0       0       0       0       0       0       0       0   \n",
       "1      0       0       0       0       0       0       0       0       0   \n",
       "2      1       0       0       0       0       0       0       0       0   \n",
       "3      4       0       0       0       0       0       0       0       0   \n",
       "4      0       0       0       0       0       0       0       0       0   \n",
       "\n",
       "   pixel8  ...  pixel774  pixel775  pixel776  pixel777  pixel778  pixel779  \\\n",
       "0       0  ...         0         0         0         0         0         0   \n",
       "1       0  ...         0         0         0         0         0         0   \n",
       "2       0  ...         0         0         0         0         0         0   \n",
       "3       0  ...         0         0         0         0         0         0   \n",
       "4       0  ...         0         0         0         0         0         0   \n",
       "\n",
       "   pixel780  pixel781  pixel782  pixel783  \n",
       "0         0         0         0         0  \n",
       "1         0         0         0         0  \n",
       "2         0         0         0         0  \n",
       "3         0         0         0         0  \n",
       "4         0         0         0         0  \n",
       "\n",
       "[5 rows x 785 columns]"
      ]
     },
     "execution_count": 21,
     "metadata": {},
     "output_type": "execute_result"
    }
   ],
   "source": [
    "import pandas as pd\n",
    "train = pd.read_csv('digit-recognizer/train.csv')\n",
    "train.head()"
   ]
  },
  {
   "cell_type": "code",
   "execution_count": 22,
   "metadata": {},
   "outputs": [
    {
     "data": {
      "text/plain": [
       "(42000, 785)"
      ]
     },
     "execution_count": 22,
     "metadata": {},
     "output_type": "execute_result"
    }
   ],
   "source": [
    "train.shape"
   ]
  },
  {
   "cell_type": "code",
   "execution_count": 23,
   "metadata": {},
   "outputs": [
    {
     "data": {
      "text/plain": [
       "28.0"
      ]
     },
     "execution_count": 23,
     "metadata": {},
     "output_type": "execute_result"
    }
   ],
   "source": [
    "784**0.5 # 28 x 28 image"
   ]
  },
  {
   "cell_type": "code",
   "execution_count": 24,
   "metadata": {},
   "outputs": [],
   "source": [
    "import numpy as np\n",
    "import matplotlib.pyplot as plt"
   ]
  },
  {
   "cell_type": "code",
   "execution_count": 25,
   "metadata": {
    "scrolled": true
   },
   "outputs": [
    {
     "data": {
      "text/plain": [
       "label\n",
       "0    4132\n",
       "1    4684\n",
       "2    4177\n",
       "3    4351\n",
       "4    4072\n",
       "5    3795\n",
       "6    4137\n",
       "7    4401\n",
       "8    4063\n",
       "9    4188\n",
       "Name: label, dtype: int64"
      ]
     },
     "execution_count": 25,
     "metadata": {},
     "output_type": "execute_result"
    }
   ],
   "source": [
    "train.groupby(['label'])['label'].count()"
   ]
  },
  {
   "cell_type": "markdown",
   "metadata": {},
   "source": [
    "### randomly display 9 samples along with class"
   ]
  },
  {
   "cell_type": "code",
   "execution_count": 57,
   "metadata": {},
   "outputs": [
    {
     "data": {
      "image/png": "[encoded data removed]",
      "text/plain": [
       "<Figure size 432x432 with 9 Axes>"
      ]
     },
     "metadata": {},
     "output_type": "display_data"
    }
   ],
   "source": [
    "index = np.random.randint(0, train.shape[0], size=9)\n",
    "fig, axis = plt.subplots(3, 3, figsize=(6,6))\n",
    "for i in range(3):\n",
    "    for j in range(3):\n",
    "        idx = index[3*i + j]\n",
    "        label = train.label[idx]\n",
    "        data = train.iloc[idx,1:]\n",
    "        img = np.array(data).reshape((28,28))\n",
    "        axis[i][j].set_xticks([])\n",
    "        axis[i][j].set_yticks([])\n",
    "        axis[i][j].set_title(f'class = {label}')\n",
    "        axis[i][j].imshow(img)"
   ]
  },
  {
   "cell_type": "markdown",
   "metadata": {},
   "source": [
    "training and test splits"
   ]
  },
  {
   "cell_type": "code",
   "execution_count": 61,
   "metadata": {},
   "outputs": [
    {
     "data": {
      "text/plain": [
       "11.904761904761903"
      ]
     },
     "execution_count": 61,
     "metadata": {},
     "output_type": "execute_result"
    }
   ],
   "source": [
    "# approx 4000 images from each classes\n",
    "(5000/train.shape[0]) * 100 # 11 % data for testing >> 500 samples from each classes for testing"
   ]
  },
  {
   "cell_type": "code",
   "execution_count": 117,
   "metadata": {},
   "outputs": [
    {
     "data": {
      "text/plain": [
       "array([1, 0, 1, ..., 7, 6, 9], dtype=int64)"
      ]
     },
     "execution_count": 117,
     "metadata": {},
     "output_type": "execute_result"
    }
   ],
   "source": [
    "labels = np.array(train.label)\n",
    "labels"
   ]
  },
  {
   "cell_type": "code",
   "execution_count": 118,
   "metadata": {},
   "outputs": [],
   "source": [
    "np.random.seed(110)\n",
    "test_samples_from_each_class = 500\n",
    "train_idxs=[]\n",
    "test_idxs=[]\n",
    "for digit in range(10):\n",
    "    arr = np.where(labels == digit)[0]\n",
    "    np.random.shuffle(arr)\n",
    "    test_idxs.extend(list(arr)[:test_samples_from_each_class])\n",
    "    train_idxs.extend(list(arr)[test_samples_from_each_class:])"
   ]
  },
  {
   "cell_type": "code",
   "execution_count": 121,
   "metadata": {},
   "outputs": [
    {
     "data": {
      "text/plain": [
       "True"
      ]
     },
     "execution_count": 121,
     "metadata": {},
     "output_type": "execute_result"
    }
   ],
   "source": [
    "len(set(train_idxs + test_idxs)) == train.shape[0] # sanity checks"
   ]
  },
  {
   "cell_type": "code",
   "execution_count": 125,
   "metadata": {},
   "outputs": [
    {
     "data": {
      "text/plain": [
       "5000"
      ]
     },
     "execution_count": 125,
     "metadata": {},
     "output_type": "execute_result"
    }
   ],
   "source": [
    "len(test_idxs)"
   ]
  },
  {
   "cell_type": "code",
   "execution_count": 126,
   "metadata": {},
   "outputs": [
    {
     "data": {
      "text/plain": [
       "((37000, 785), (5000, 785))"
      ]
     },
     "execution_count": 126,
     "metadata": {},
     "output_type": "execute_result"
    }
   ],
   "source": [
    "train_data = train.iloc[train_idxs,:]\n",
    "test_data = train.iloc[test_idxs,:]\n",
    "train_data.shape, test_data.shape"
   ]
  },
  {
   "cell_type": "code",
   "execution_count": 159,
   "metadata": {},
   "outputs": [],
   "source": [
    "temp = train_x, train_y, test_x, test_y = train_data.iloc[:,1:], train_data.iloc[:,0], test_data.iloc[:,1:], test_data.iloc[:,0]"
   ]
  },
  {
   "cell_type": "code",
   "execution_count": 131,
   "metadata": {},
   "outputs": [
    {
     "data": {
      "text/plain": [
       "[(37000, 784), (37000,), (5000, 784), (5000,)]"
      ]
     },
     "execution_count": 131,
     "metadata": {},
     "output_type": "execute_result"
    }
   ],
   "source": [
    "[i.shape for i in temp]"
   ]
  },
  {
   "cell_type": "code",
   "execution_count": 160,
   "metadata": {},
   "outputs": [],
   "source": [
    "train_x, test_x = train_x.values, test_x.values"
   ]
  },
  {
   "cell_type": "code",
   "execution_count": 161,
   "metadata": {},
   "outputs": [
    {
     "data": {
      "text/plain": [
       "(array([[0, 0, 0, ..., 0, 0, 0],\n",
       "        [0, 0, 0, ..., 0, 0, 0],\n",
       "        [0, 0, 0, ..., 0, 0, 0],\n",
       "        ...,\n",
       "        [0, 0, 0, ..., 0, 0, 0],\n",
       "        [0, 0, 0, ..., 0, 0, 0],\n",
       "        [0, 0, 0, ..., 0, 0, 0]], dtype=int64),\n",
       " array([[0, 0, 0, ..., 0, 0, 0],\n",
       "        [0, 0, 0, ..., 0, 0, 0],\n",
       "        [0, 0, 0, ..., 0, 0, 0],\n",
       "        ...,\n",
       "        [0, 0, 0, ..., 0, 0, 0],\n",
       "        [0, 0, 0, ..., 0, 0, 0],\n",
       "        [0, 0, 0, ..., 0, 0, 0]], dtype=int64),\n",
       " (37000, 784),\n",
       " (5000, 784))"
      ]
     },
     "execution_count": 161,
     "metadata": {},
     "output_type": "execute_result"
    }
   ],
   "source": [
    "train_x, test_x, train_x.shape, test_x.shape"
   ]
  },
  {
   "cell_type": "code",
   "execution_count": 162,
   "metadata": {},
   "outputs": [
    {
     "data": {
      "text/plain": [
       "(array([0, 0, 0, ..., 9, 9, 9], dtype=int64),\n",
       " array([0, 0, 0, ..., 9, 9, 9], dtype=int64),\n",
       " (37000,),\n",
       " (5000,))"
      ]
     },
     "execution_count": 162,
     "metadata": {},
     "output_type": "execute_result"
    }
   ],
   "source": [
    "train_y, test_y = train_y.values, test_y.values\n",
    "train_y, test_y, train_y.shape, test_y.shape"
   ]
  },
  {
   "cell_type": "code",
   "execution_count": 152,
   "metadata": {},
   "outputs": [],
   "source": [
    "import tensorflow as tf"
   ]
  },
  {
   "cell_type": "code",
   "execution_count": 163,
   "metadata": {},
   "outputs": [],
   "source": [
    "train_y = tf.keras.utils.to_categorical(train_y)\n",
    "test_y = tf.keras.utils.to_categorical(test_y)"
   ]
  },
  {
   "cell_type": "code",
   "execution_count": 164,
   "metadata": {},
   "outputs": [
    {
     "data": {
      "text/plain": [
       "(array([[1., 0., 0., ..., 0., 0., 0.],\n",
       "        [1., 0., 0., ..., 0., 0., 0.],\n",
       "        [1., 0., 0., ..., 0., 0., 0.],\n",
       "        ...,\n",
       "        [0., 0., 0., ..., 0., 0., 1.],\n",
       "        [0., 0., 0., ..., 0., 0., 1.],\n",
       "        [0., 0., 0., ..., 0., 0., 1.]], dtype=float32),\n",
       " array([[1., 0., 0., ..., 0., 0., 0.],\n",
       "        [1., 0., 0., ..., 0., 0., 0.],\n",
       "        [1., 0., 0., ..., 0., 0., 0.],\n",
       "        ...,\n",
       "        [0., 0., 0., ..., 0., 0., 1.],\n",
       "        [0., 0., 0., ..., 0., 0., 1.],\n",
       "        [0., 0., 0., ..., 0., 0., 1.]], dtype=float32),\n",
       " (37000, 10),\n",
       " (5000, 10))"
      ]
     },
     "execution_count": 164,
     "metadata": {},
     "output_type": "execute_result"
    }
   ],
   "source": [
    "train_y, test_y, train_y.shape, test_y.shape"
   ]
  },
  {
   "cell_type": "markdown",
   "metadata": {},
   "source": [
    "### data preparation complete\n",
    "### ('_') Hurray"
   ]
  },
  {
   "cell_type": "markdown",
   "metadata": {},
   "source": [
    "### data normalization"
   ]
  },
  {
   "cell_type": "code",
   "execution_count": 165,
   "metadata": {},
   "outputs": [
    {
     "data": {
      "text/plain": [
       "(array([[0., 0., 0., ..., 0., 0., 0.],\n",
       "        [0., 0., 0., ..., 0., 0., 0.],\n",
       "        [0., 0., 0., ..., 0., 0., 0.],\n",
       "        ...,\n",
       "        [0., 0., 0., ..., 0., 0., 0.],\n",
       "        [0., 0., 0., ..., 0., 0., 0.],\n",
       "        [0., 0., 0., ..., 0., 0., 0.]]),\n",
       " array([[0., 0., 0., ..., 0., 0., 0.],\n",
       "        [0., 0., 0., ..., 0., 0., 0.],\n",
       "        [0., 0., 0., ..., 0., 0., 0.],\n",
       "        ...,\n",
       "        [0., 0., 0., ..., 0., 0., 0.],\n",
       "        [0., 0., 0., ..., 0., 0., 0.],\n",
       "        [0., 0., 0., ..., 0., 0., 0.]]),\n",
       " (37000, 784),\n",
       " (5000, 784))"
      ]
     },
     "execution_count": 165,
     "metadata": {},
     "output_type": "execute_result"
    }
   ],
   "source": [
    "train_x, test_x = train_x/255, test_x/255\n",
    "train_x, test_x, train_x.shape, test_x.shape"
   ]
  },
  {
   "cell_type": "markdown",
   "metadata": {},
   "source": [
    "### create neural network architecture"
   ]
  },
  {
   "cell_type": "code",
   "execution_count": 183,
   "metadata": {},
   "outputs": [],
   "source": [
    "from tensorflow import keras\n",
    "from tensorflow.keras.layers import Dense\n",
    "from tensorflow.keras import Sequential\n",
    "from tensorflow.keras.losses import CategoricalCrossentropy\n",
    "from tensorflow.keras.optimizers import Adam, RMSprop "
   ]
  },
  {
   "cell_type": "code",
   "execution_count": 181,
   "metadata": {},
   "outputs": [],
   "source": [
    "model = Sequential([\n",
    "    Dense(1, activation='relu', input_shape=(784,)),\n",
    "    Dense(10)\n",
    "])"
   ]
  },
  {
   "cell_type": "code",
   "execution_count": 184,
   "metadata": {},
   "outputs": [],
   "source": [
    "model.compile(optimizer=Adam(learning_rate=0.001),\n",
    "              loss=CategoricalCrossentropy(from_logits=True),\n",
    "              metrics=['accuracy'])"
   ]
  },
  {
   "cell_type": "code",
   "execution_count": 190,
   "metadata": {},
   "outputs": [
    {
     "name": "stdout",
     "output_type": "stream",
     "text": [
      "Epoch 1/100\n",
      "1157/1157 [==============================] - 1s 913us/step - loss: 1.5702 - accuracy: 0.3975 - val_loss: 1.6017 - val_accuracy: 0.3830\n",
      "Epoch 2/100\n",
      "1157/1157 [==============================] - 1s 931us/step - loss: 1.5699 - accuracy: 0.3977 - val_loss: 1.6091 - val_accuracy: 0.3810\n",
      "Epoch 3/100\n",
      "1157/1157 [==============================] - 1s 895us/step - loss: 1.5696 - accuracy: 0.3976 - val_loss: 1.6014 - val_accuracy: 0.3900\n",
      "Epoch 4/100\n",
      "1157/1157 [==============================] - 1s 929us/step - loss: 1.5687 - accuracy: 0.3986 - val_loss: 1.6035 - val_accuracy: 0.3916\n",
      "Epoch 5/100\n",
      "1157/1157 [==============================] - 1s 903us/step - loss: 1.5688 - accuracy: 0.3968 - val_loss: 1.6044 - val_accuracy: 0.3840\n",
      "Epoch 6/100\n",
      "1157/1157 [==============================] - 1s 934us/step - loss: 1.5688 - accuracy: 0.3985 - val_loss: 1.6093 - val_accuracy: 0.3866\n",
      "Epoch 7/100\n",
      "1157/1157 [==============================] - 1s 939us/step - loss: 1.5692 - accuracy: 0.3964 - val_loss: 1.6024 - val_accuracy: 0.3880\n",
      "Epoch 8/100\n",
      "1157/1157 [==============================] - 1s 897us/step - loss: 1.5680 - accuracy: 0.3979 - val_loss: 1.6022 - val_accuracy: 0.3864\n",
      "Epoch 9/100\n",
      "1157/1157 [==============================] - 1s 931us/step - loss: 1.5678 - accuracy: 0.4001 - val_loss: 1.6037 - val_accuracy: 0.3818\n",
      "Epoch 10/100\n",
      "1157/1157 [==============================] - 1s 900us/step - loss: 1.5678 - accuracy: 0.4001 - val_loss: 1.6023 - val_accuracy: 0.3842\n",
      "Epoch 11/100\n",
      "1157/1157 [==============================] - 1s 920us/step - loss: 1.5675 - accuracy: 0.4009 - val_loss: 1.6032 - val_accuracy: 0.3806\n",
      "Epoch 12/100\n",
      "1157/1157 [==============================] - 1s 926us/step - loss: 1.5675 - accuracy: 0.3994 - val_loss: 1.6005 - val_accuracy: 0.3796\n",
      "Epoch 13/100\n",
      "1157/1157 [==============================] - 1s 929us/step - loss: 1.5671 - accuracy: 0.4014 - val_loss: 1.6036 - val_accuracy: 0.3782\n",
      "Epoch 14/100\n",
      "1157/1157 [==============================] - 1s 935us/step - loss: 1.5664 - accuracy: 0.4017 - val_loss: 1.6017 - val_accuracy: 0.3788\n",
      "Epoch 15/100\n",
      "1157/1157 [==============================] - 1s 1ms/step - loss: 1.5666 - accuracy: 0.3993 - val_loss: 1.6030 - val_accuracy: 0.3868\n",
      "Epoch 16/100\n",
      "1157/1157 [==============================] - 1s 1ms/step - loss: 1.5663 - accuracy: 0.4018 - val_loss: 1.6061 - val_accuracy: 0.3836\n",
      "Epoch 17/100\n",
      "1157/1157 [==============================] - 1s 1ms/step - loss: 1.5660 - accuracy: 0.4019 - val_loss: 1.6002 - val_accuracy: 0.3832\n",
      "Epoch 18/100\n",
      "1157/1157 [==============================] - 1s 1ms/step - loss: 1.5661 - accuracy: 0.4035 - val_loss: 1.6015 - val_accuracy: 0.3880\n",
      "Epoch 19/100\n",
      "1157/1157 [==============================] - 1s 1ms/step - loss: 1.5660 - accuracy: 0.4029 - val_loss: 1.6100 - val_accuracy: 0.3780\n",
      "Epoch 20/100\n",
      "1157/1157 [==============================] - 1s 1ms/step - loss: 1.5660 - accuracy: 0.4048 - val_loss: 1.6022 - val_accuracy: 0.3822\n",
      "Epoch 21/100\n",
      "1157/1157 [==============================] - 1s 1ms/step - loss: 1.5653 - accuracy: 0.4030 - val_loss: 1.6040 - val_accuracy: 0.3790\n",
      "Epoch 22/100\n",
      "1157/1157 [==============================] - 1s 1ms/step - loss: 1.5655 - accuracy: 0.4044 - val_loss: 1.6038 - val_accuracy: 0.3808\n",
      "Epoch 23/100\n",
      "1157/1157 [==============================] - 1s 1ms/step - loss: 1.5648 - accuracy: 0.4044 - val_loss: 1.6006 - val_accuracy: 0.3874\n",
      "Epoch 24/100\n",
      "1157/1157 [==============================] - 1s 1ms/step - loss: 1.5650 - accuracy: 0.4059 - val_loss: 1.5998 - val_accuracy: 0.3904\n",
      "Epoch 25/100\n",
      "1157/1157 [==============================] - 1s 1ms/step - loss: 1.5653 - accuracy: 0.4039 - val_loss: 1.6013 - val_accuracy: 0.3864\n",
      "Epoch 26/100\n",
      "1157/1157 [==============================] - 1s 1ms/step - loss: 1.5646 - accuracy: 0.4052 - val_loss: 1.6044 - val_accuracy: 0.3776\n",
      "Epoch 27/100\n",
      "1157/1157 [==============================] - 1s 1ms/step - loss: 1.5647 - accuracy: 0.4040 - val_loss: 1.6010 - val_accuracy: 0.3764\n",
      "Epoch 28/100\n",
      "1157/1157 [==============================] - 1s 1ms/step - loss: 1.5644 - accuracy: 0.4048 - val_loss: 1.6040 - val_accuracy: 0.3862\n",
      "Epoch 29/100\n",
      "1157/1157 [==============================] - 1s 1ms/step - loss: 1.5641 - accuracy: 0.4055 - val_loss: 1.6034 - val_accuracy: 0.3784\n",
      "Epoch 30/100\n",
      "1157/1157 [==============================] - 1s 1ms/step - loss: 1.5637 - accuracy: 0.4047 - val_loss: 1.6000 - val_accuracy: 0.3846\n",
      "Epoch 31/100\n",
      "1157/1157 [==============================] - 1s 1ms/step - loss: 1.5638 - accuracy: 0.4071 - val_loss: 1.6002 - val_accuracy: 0.3892\n",
      "Epoch 32/100\n",
      "1157/1157 [==============================] - 1s 1ms/step - loss: 1.5636 - accuracy: 0.4067 - val_loss: 1.5998 - val_accuracy: 0.3814\n",
      "Epoch 33/100\n",
      "1157/1157 [==============================] - 1s 1ms/step - loss: 1.5635 - accuracy: 0.4042 - val_loss: 1.5991 - val_accuracy: 0.3802\n",
      "Epoch 34/100\n",
      "1157/1157 [==============================] - 1s 1ms/step - loss: 1.5640 - accuracy: 0.4037 - val_loss: 1.5991 - val_accuracy: 0.3836\n",
      "Epoch 35/100\n",
      "1157/1157 [==============================] - 1s 1ms/step - loss: 1.5628 - accuracy: 0.4043 - val_loss: 1.5972 - val_accuracy: 0.3892\n",
      "Epoch 36/100\n",
      "1157/1157 [==============================] - 1s 1ms/step - loss: 1.5631 - accuracy: 0.4060 - val_loss: 1.6045 - val_accuracy: 0.3782\n",
      "Epoch 37/100\n",
      "1157/1157 [==============================] - 1s 1ms/step - loss: 1.5631 - accuracy: 0.4042 - val_loss: 1.5966 - val_accuracy: 0.3900\n",
      "Epoch 38/100\n",
      "1157/1157 [==============================] - 1s 1ms/step - loss: 1.5625 - accuracy: 0.4063 - val_loss: 1.5968 - val_accuracy: 0.3824\n",
      "Epoch 39/100\n",
      "1157/1157 [==============================] - 1s 1ms/step - loss: 1.5626 - accuracy: 0.4076 - val_loss: 1.5986 - val_accuracy: 0.3870\n",
      "Epoch 40/100\n",
      "1157/1157 [==============================] - 1s 1ms/step - loss: 1.5626 - accuracy: 0.4026 - val_loss: 1.6002 - val_accuracy: 0.3930\n",
      "Epoch 41/100\n",
      "1157/1157 [==============================] - 1s 1ms/step - loss: 1.5623 - accuracy: 0.4062 - val_loss: 1.6036 - val_accuracy: 0.3840\n",
      "Epoch 42/100\n",
      "1157/1157 [==============================] - 1s 1ms/step - loss: 1.5626 - accuracy: 0.4068 - val_loss: 1.6001 - val_accuracy: 0.3876\n",
      "Epoch 43/100\n",
      "1157/1157 [==============================] - 1s 1ms/step - loss: 1.5620 - accuracy: 0.4079 - val_loss: 1.6024 - val_accuracy: 0.3810\n",
      "Epoch 44/100\n",
      "1157/1157 [==============================] - 1s 1ms/step - loss: 1.5625 - accuracy: 0.4061 - val_loss: 1.5974 - val_accuracy: 0.3904\n",
      "Epoch 45/100\n",
      "1157/1157 [==============================] - 1s 1ms/step - loss: 1.5621 - accuracy: 0.4069 - val_loss: 1.5968 - val_accuracy: 0.3842\n",
      "Epoch 46/100\n",
      "1157/1157 [==============================] - 1s 1ms/step - loss: 1.5620 - accuracy: 0.4074 - val_loss: 1.6008 - val_accuracy: 0.3862\n",
      "Epoch 47/100\n",
      "1157/1157 [==============================] - 1s 1ms/step - loss: 1.5617 - accuracy: 0.4061 - val_loss: 1.5984 - val_accuracy: 0.3868\n",
      "Epoch 48/100\n",
      "1157/1157 [==============================] - 1s 1ms/step - loss: 1.5619 - accuracy: 0.4067 - val_loss: 1.5986 - val_accuracy: 0.3892\n",
      "Epoch 49/100\n",
      "1157/1157 [==============================] - 1s 1ms/step - loss: 1.5614 - accuracy: 0.4080 - val_loss: 1.5987 - val_accuracy: 0.3848\n",
      "Epoch 50/100\n",
      "1157/1157 [==============================] - 1s 1ms/step - loss: 1.5619 - accuracy: 0.4079 - val_loss: 1.5973 - val_accuracy: 0.3868\n",
      "Epoch 51/100\n",
      "1157/1157 [==============================] - 1s 1ms/step - loss: 1.5613 - accuracy: 0.4084 - val_loss: 1.5980 - val_accuracy: 0.3802\n",
      "Epoch 52/100\n",
      "1157/1157 [==============================] - 1s 1ms/step - loss: 1.5612 - accuracy: 0.4074 - val_loss: 1.6000 - val_accuracy: 0.3780\n",
      "Epoch 53/100\n",
      "1157/1157 [==============================] - 1s 1ms/step - loss: 1.5608 - accuracy: 0.4082 - val_loss: 1.5983 - val_accuracy: 0.3866\n",
      "Epoch 54/100\n",
      "1157/1157 [==============================] - 1s 1ms/step - loss: 1.5611 - accuracy: 0.4057 - val_loss: 1.6001 - val_accuracy: 0.3900\n",
      "Epoch 55/100\n",
      "1157/1157 [==============================] - 1s 1ms/step - loss: 1.5617 - accuracy: 0.4080 - val_loss: 1.5965 - val_accuracy: 0.3910\n",
      "Epoch 56/100\n",
      "1157/1157 [==============================] - 2s 2ms/step - loss: 1.5605 - accuracy: 0.4071 - val_loss: 1.5976 - val_accuracy: 0.3874\n"
     ]
    },
    {
     "name": "stdout",
     "output_type": "stream",
     "text": [
      "Epoch 57/100\n",
      "1157/1157 [==============================] - 1s 1ms/step - loss: 1.5612 - accuracy: 0.4071 - val_loss: 1.5975 - val_accuracy: 0.3882\n",
      "Epoch 58/100\n",
      "1157/1157 [==============================] - 1s 1ms/step - loss: 1.5604 - accuracy: 0.4071 - val_loss: 1.5966 - val_accuracy: 0.3872\n",
      "Epoch 59/100\n",
      "1157/1157 [==============================] - 1s 1ms/step - loss: 1.5605 - accuracy: 0.4084 - val_loss: 1.5960 - val_accuracy: 0.3844\n",
      "Epoch 60/100\n",
      "1157/1157 [==============================] - 1s 1ms/step - loss: 1.5597 - accuracy: 0.4086 - val_loss: 1.6024 - val_accuracy: 0.3882\n",
      "Epoch 61/100\n",
      "1157/1157 [==============================] - 1s 1ms/step - loss: 1.5599 - accuracy: 0.4103 - val_loss: 1.6026 - val_accuracy: 0.3808\n",
      "Epoch 62/100\n",
      "1157/1157 [==============================] - 1s 1ms/step - loss: 1.5599 - accuracy: 0.4073 - val_loss: 1.5994 - val_accuracy: 0.3866\n",
      "Epoch 63/100\n",
      "1157/1157 [==============================] - 1s 1ms/step - loss: 1.5603 - accuracy: 0.4084 - val_loss: 1.5987 - val_accuracy: 0.3776\n",
      "Epoch 64/100\n",
      "1157/1157 [==============================] - 1s 1ms/step - loss: 1.5604 - accuracy: 0.4080 - val_loss: 1.6019 - val_accuracy: 0.3880\n",
      "Epoch 65/100\n",
      "1157/1157 [==============================] - 1s 1ms/step - loss: 1.5597 - accuracy: 0.4083 - val_loss: 1.5966 - val_accuracy: 0.3858\n",
      "Epoch 66/100\n",
      "1157/1157 [==============================] - 1s 1ms/step - loss: 1.5596 - accuracy: 0.4082 - val_loss: 1.6111 - val_accuracy: 0.3734\n",
      "Epoch 67/100\n",
      "1157/1157 [==============================] - 1s 1ms/step - loss: 1.5604 - accuracy: 0.4067 - val_loss: 1.5980 - val_accuracy: 0.3910\n",
      "Epoch 68/100\n",
      "1157/1157 [==============================] - 1s 1ms/step - loss: 1.5599 - accuracy: 0.4088 - val_loss: 1.5962 - val_accuracy: 0.3898\n",
      "Epoch 69/100\n",
      "1157/1157 [==============================] - 1s 1ms/step - loss: 1.5595 - accuracy: 0.4089 - val_loss: 1.5956 - val_accuracy: 0.3820\n",
      "Epoch 70/100\n",
      "1157/1157 [==============================] - 2s 1ms/step - loss: 1.5590 - accuracy: 0.4069 - val_loss: 1.5991 - val_accuracy: 0.3866\n",
      "Epoch 71/100\n",
      "1157/1157 [==============================] - 1s 1ms/step - loss: 1.5597 - accuracy: 0.4071 - val_loss: 1.5985 - val_accuracy: 0.3802\n",
      "Epoch 72/100\n",
      "1157/1157 [==============================] - 1s 1ms/step - loss: 1.5591 - accuracy: 0.4068 - val_loss: 1.5982 - val_accuracy: 0.3810\n",
      "Epoch 73/100\n",
      "1157/1157 [==============================] - 1s 1ms/step - loss: 1.5593 - accuracy: 0.4094 - val_loss: 1.5999 - val_accuracy: 0.3872\n",
      "Epoch 74/100\n",
      "1157/1157 [==============================] - 1s 1ms/step - loss: 1.5591 - accuracy: 0.4087 - val_loss: 1.5945 - val_accuracy: 0.3874\n",
      "Epoch 75/100\n",
      "1157/1157 [==============================] - 1s 1ms/step - loss: 1.5587 - accuracy: 0.4075 - val_loss: 1.5971 - val_accuracy: 0.3940\n",
      "Epoch 76/100\n",
      "1157/1157 [==============================] - 1s 1ms/step - loss: 1.5595 - accuracy: 0.4082 - val_loss: 1.5942 - val_accuracy: 0.3850\n",
      "Epoch 77/100\n",
      "1157/1157 [==============================] - 1s 1ms/step - loss: 1.5590 - accuracy: 0.4084 - val_loss: 1.5977 - val_accuracy: 0.3790\n",
      "Epoch 78/100\n",
      "1157/1157 [==============================] - 1s 1ms/step - loss: 1.5593 - accuracy: 0.4095 - val_loss: 1.5953 - val_accuracy: 0.3810\n",
      "Epoch 79/100\n",
      "1157/1157 [==============================] - 1s 1ms/step - loss: 1.5584 - accuracy: 0.4093 - val_loss: 1.5960 - val_accuracy: 0.3940\n",
      "Epoch 80/100\n",
      "1157/1157 [==============================] - 1s 1ms/step - loss: 1.5588 - accuracy: 0.4090 - val_loss: 1.6181 - val_accuracy: 0.3754\n",
      "Epoch 81/100\n",
      "1157/1157 [==============================] - 1s 1ms/step - loss: 1.5588 - accuracy: 0.4078 - val_loss: 1.5936 - val_accuracy: 0.3886\n",
      "Epoch 82/100\n",
      "1157/1157 [==============================] - 1s 1ms/step - loss: 1.5584 - accuracy: 0.4088 - val_loss: 1.5975 - val_accuracy: 0.3914\n",
      "Epoch 83/100\n",
      "1157/1157 [==============================] - 1s 1ms/step - loss: 1.5582 - accuracy: 0.4078 - val_loss: 1.6001 - val_accuracy: 0.3876\n",
      "Epoch 84/100\n",
      "1157/1157 [==============================] - 1s 1ms/step - loss: 1.5584 - accuracy: 0.4093 - val_loss: 1.5979 - val_accuracy: 0.3884\n",
      "Epoch 85/100\n",
      "1157/1157 [==============================] - 1s 1ms/step - loss: 1.5579 - accuracy: 0.4106 - val_loss: 1.5959 - val_accuracy: 0.3790\n",
      "Epoch 86/100\n",
      "1157/1157 [==============================] - 1s 1ms/step - loss: 1.5581 - accuracy: 0.4088 - val_loss: 1.5957 - val_accuracy: 0.3858\n",
      "Epoch 87/100\n",
      "1157/1157 [==============================] - 1s 1ms/step - loss: 1.5577 - accuracy: 0.4060 - val_loss: 1.5961 - val_accuracy: 0.3848\n",
      "Epoch 88/100\n",
      "1157/1157 [==============================] - 1s 1ms/step - loss: 1.5580 - accuracy: 0.4102 - val_loss: 1.5952 - val_accuracy: 0.3800\n",
      "Epoch 89/100\n",
      "1157/1157 [==============================] - 1s 1ms/step - loss: 1.5587 - accuracy: 0.4059 - val_loss: 1.6004 - val_accuracy: 0.3846\n",
      "Epoch 90/100\n",
      "1157/1157 [==============================] - 1s 1ms/step - loss: 1.5586 - accuracy: 0.4087 - val_loss: 1.5942 - val_accuracy: 0.3808\n",
      "Epoch 91/100\n",
      "1157/1157 [==============================] - 1s 1ms/step - loss: 1.5583 - accuracy: 0.4093 - val_loss: 1.5931 - val_accuracy: 0.3828\n",
      "Epoch 92/100\n",
      "1157/1157 [==============================] - 1s 1ms/step - loss: 1.5576 - accuracy: 0.4067 - val_loss: 1.5947 - val_accuracy: 0.3878\n",
      "Epoch 93/100\n",
      "1157/1157 [==============================] - 1s 1ms/step - loss: 1.5579 - accuracy: 0.4061 - val_loss: 1.5962 - val_accuracy: 0.3886\n",
      "Epoch 94/100\n",
      "1157/1157 [==============================] - 1s 1ms/step - loss: 1.5581 - accuracy: 0.4072 - val_loss: 1.5997 - val_accuracy: 0.3846\n",
      "Epoch 95/100\n",
      "1157/1157 [==============================] - 1s 1ms/step - loss: 1.5577 - accuracy: 0.4076 - val_loss: 1.5962 - val_accuracy: 0.3868\n",
      "Epoch 96/100\n",
      "1157/1157 [==============================] - 1s 1ms/step - loss: 1.5579 - accuracy: 0.4072 - val_loss: 1.5969 - val_accuracy: 0.3886\n",
      "Epoch 97/100\n",
      "1157/1157 [==============================] - 1s 1ms/step - loss: 1.5572 - accuracy: 0.4077 - val_loss: 1.5963 - val_accuracy: 0.3844\n",
      "Epoch 98/100\n",
      "1157/1157 [==============================] - 1s 1ms/step - loss: 1.5577 - accuracy: 0.4086 - val_loss: 1.5962 - val_accuracy: 0.3882\n",
      "Epoch 99/100\n",
      "1157/1157 [==============================] - 1s 1ms/step - loss: 1.5576 - accuracy: 0.4086 - val_loss: 1.5952 - val_accuracy: 0.3792\n",
      "Epoch 100/100\n",
      "1157/1157 [==============================] - 1s 1ms/step - loss: 1.5580 - accuracy: 0.4065 - val_loss: 1.6064 - val_accuracy: 0.3734\n"
     ]
    },
    {
     "data": {
      "text/plain": [
       "<tensorflow.python.keras.callbacks.History at 0x2611778f6a0>"
      ]
     },
     "execution_count": 190,
     "metadata": {},
     "output_type": "execute_result"
    }
   ],
   "source": [
    "model.fit(train_x, train_y, batch_size=None, epochs=100, validation_data=(test_x, test_y))"
   ]
  },
  {
   "cell_type": "markdown",
   "metadata": {},
   "source": [
    "### do the prediction and submit to kaggle"
   ]
  },
  {
   "cell_type": "code",
   "execution_count": 191,
   "metadata": {},
   "outputs": [
    {
     "data": {
      "text/html": [
       "<div>\n",
       "<style scoped>\n",
       "    .dataframe tbody tr th:only-of-type {\n",
       "        vertical-align: middle;\n",
       "    }\n",
       "\n",
       "    .dataframe tbody tr th {\n",
       "        vertical-align: top;\n",
       "    }\n",
       "\n",
       "    .dataframe thead th {\n",
       "        text-align: right;\n",
       "    }\n",
       "</style>\n",
       "<table border=\"1\" class=\"dataframe\">\n",
       "  <thead>\n",
       "    <tr style=\"text-align: right;\">\n",
       "      <th></th>\n",
       "      <th>pixel0</th>\n",
       "      <th>pixel1</th>\n",
       "      <th>pixel2</th>\n",
       "      <th>pixel3</th>\n",
       "      <th>pixel4</th>\n",
       "      <th>pixel5</th>\n",
       "      <th>pixel6</th>\n",
       "      <th>pixel7</th>\n",
       "      <th>pixel8</th>\n",
       "      <th>pixel9</th>\n",
       "      <th>...</th>\n",
       "      <th>pixel774</th>\n",
       "      <th>pixel775</th>\n",
       "      <th>pixel776</th>\n",
       "      <th>pixel777</th>\n",
       "      <th>pixel778</th>\n",
       "      <th>pixel779</th>\n",
       "      <th>pixel780</th>\n",
       "      <th>pixel781</th>\n",
       "      <th>pixel782</th>\n",
       "      <th>pixel783</th>\n",
       "    </tr>\n",
       "  </thead>\n",
       "  <tbody>\n",
       "    <tr>\n",
       "      <th>0</th>\n",
       "      <td>0</td>\n",
       "      <td>0</td>\n",
       "      <td>0</td>\n",
       "      <td>0</td>\n",
       "      <td>0</td>\n",
       "      <td>0</td>\n",
       "      <td>0</td>\n",
       "      <td>0</td>\n",
       "      <td>0</td>\n",
       "      <td>0</td>\n",
       "      <td>...</td>\n",
       "      <td>0</td>\n",
       "      <td>0</td>\n",
       "      <td>0</td>\n",
       "      <td>0</td>\n",
       "      <td>0</td>\n",
       "      <td>0</td>\n",
       "      <td>0</td>\n",
       "      <td>0</td>\n",
       "      <td>0</td>\n",
       "      <td>0</td>\n",
       "    </tr>\n",
       "    <tr>\n",
       "      <th>1</th>\n",
       "      <td>0</td>\n",
       "      <td>0</td>\n",
       "      <td>0</td>\n",
       "      <td>0</td>\n",
       "      <td>0</td>\n",
       "      <td>0</td>\n",
       "      <td>0</td>\n",
       "      <td>0</td>\n",
       "      <td>0</td>\n",
       "      <td>0</td>\n",
       "      <td>...</td>\n",
       "      <td>0</td>\n",
       "      <td>0</td>\n",
       "      <td>0</td>\n",
       "      <td>0</td>\n",
       "      <td>0</td>\n",
       "      <td>0</td>\n",
       "      <td>0</td>\n",
       "      <td>0</td>\n",
       "      <td>0</td>\n",
       "      <td>0</td>\n",
       "    </tr>\n",
       "    <tr>\n",
       "      <th>2</th>\n",
       "      <td>0</td>\n",
       "      <td>0</td>\n",
       "      <td>0</td>\n",
       "      <td>0</td>\n",
       "      <td>0</td>\n",
       "      <td>0</td>\n",
       "      <td>0</td>\n",
       "      <td>0</td>\n",
       "      <td>0</td>\n",
       "      <td>0</td>\n",
       "      <td>...</td>\n",
       "      <td>0</td>\n",
       "      <td>0</td>\n",
       "      <td>0</td>\n",
       "      <td>0</td>\n",
       "      <td>0</td>\n",
       "      <td>0</td>\n",
       "      <td>0</td>\n",
       "      <td>0</td>\n",
       "      <td>0</td>\n",
       "      <td>0</td>\n",
       "    </tr>\n",
       "    <tr>\n",
       "      <th>3</th>\n",
       "      <td>0</td>\n",
       "      <td>0</td>\n",
       "      <td>0</td>\n",
       "      <td>0</td>\n",
       "      <td>0</td>\n",
       "      <td>0</td>\n",
       "      <td>0</td>\n",
       "      <td>0</td>\n",
       "      <td>0</td>\n",
       "      <td>0</td>\n",
       "      <td>...</td>\n",
       "      <td>0</td>\n",
       "      <td>0</td>\n",
       "      <td>0</td>\n",
       "      <td>0</td>\n",
       "      <td>0</td>\n",
       "      <td>0</td>\n",
       "      <td>0</td>\n",
       "      <td>0</td>\n",
       "      <td>0</td>\n",
       "      <td>0</td>\n",
       "    </tr>\n",
       "    <tr>\n",
       "      <th>4</th>\n",
       "      <td>0</td>\n",
       "      <td>0</td>\n",
       "      <td>0</td>\n",
       "      <td>0</td>\n",
       "      <td>0</td>\n",
       "      <td>0</td>\n",
       "      <td>0</td>\n",
       "      <td>0</td>\n",
       "      <td>0</td>\n",
       "      <td>0</td>\n",
       "      <td>...</td>\n",
       "      <td>0</td>\n",
       "      <td>0</td>\n",
       "      <td>0</td>\n",
       "      <td>0</td>\n",
       "      <td>0</td>\n",
       "      <td>0</td>\n",
       "      <td>0</td>\n",
       "      <td>0</td>\n",
       "      <td>0</td>\n",
       "      <td>0</td>\n",
       "    </tr>\n",
       "  </tbody>\n",
       "</table>\n",
       "<p>5 rows × 784 columns</p>\n",
       "</div>"
      ],
      "text/plain": [
       "   pixel0  pixel1  pixel2  pixel3  pixel4  pixel5  pixel6  pixel7  pixel8  \\\n",
       "0       0       0       0       0       0       0       0       0       0   \n",
       "1       0       0       0       0       0       0       0       0       0   \n",
       "2       0       0       0       0       0       0       0       0       0   \n",
       "3       0       0       0       0       0       0       0       0       0   \n",
       "4       0       0       0       0       0       0       0       0       0   \n",
       "\n",
       "   pixel9  ...  pixel774  pixel775  pixel776  pixel777  pixel778  pixel779  \\\n",
       "0       0  ...         0         0         0         0         0         0   \n",
       "1       0  ...         0         0         0         0         0         0   \n",
       "2       0  ...         0         0         0         0         0         0   \n",
       "3       0  ...         0         0         0         0         0         0   \n",
       "4       0  ...         0         0         0         0         0         0   \n",
       "\n",
       "   pixel780  pixel781  pixel782  pixel783  \n",
       "0         0         0         0         0  \n",
       "1         0         0         0         0  \n",
       "2         0         0         0         0  \n",
       "3         0         0         0         0  \n",
       "4         0         0         0         0  \n",
       "\n",
       "[5 rows x 784 columns]"
      ]
     },
     "execution_count": 191,
     "metadata": {},
     "output_type": "execute_result"
    }
   ],
   "source": [
    "test = pd.read_csv('digit-recognizer/test.csv')\n",
    "test.head()"
   ]
  },
  {
   "cell_type": "code",
   "execution_count": 193,
   "metadata": {},
   "outputs": [],
   "source": [
    "input_x = test.values/255"
   ]
  },
  {
   "cell_type": "code",
   "execution_count": 198,
   "metadata": {},
   "outputs": [
    {
     "data": {
      "text/plain": [
       "(array([[0., 0., 0., ..., 0., 0., 0.],\n",
       "        [0., 0., 0., ..., 0., 0., 0.],\n",
       "        [0., 0., 0., ..., 0., 0., 0.],\n",
       "        ...,\n",
       "        [0., 0., 0., ..., 0., 0., 0.],\n",
       "        [0., 0., 0., ..., 0., 0., 0.],\n",
       "        [0., 0., 0., ..., 0., 0., 0.]]),\n",
       " (28000, 784))"
      ]
     },
     "execution_count": 198,
     "metadata": {},
     "output_type": "execute_result"
    }
   ],
   "source": [
    "input_x, input_x.shape"
   ]
  },
  {
   "cell_type": "code",
   "execution_count": 196,
   "metadata": {},
   "outputs": [
    {
     "data": {
      "text/plain": [
       "array([[ -3.8039222 ,  -3.0549421 ,  -1.3545008 , ...,  -9.701936  ,\n",
       "         -1.7332773 ,  -8.310562  ],\n",
       "       [ -0.6697655 ,  -8.07248   ,  -3.2129462 , ...,  -3.04461   ,\n",
       "         -1.5100856 ,  -2.351355  ],\n",
       "       [  0.96177745, -10.684451  ,  -4.180394  , ...,   0.42098188,\n",
       "         -1.3938991 ,   0.7508187 ],\n",
       "       ...,\n",
       "       [ -1.9317718 ,  -6.052108  ,  -2.4646206 , ...,  -5.7252626 ,\n",
       "         -1.5999564 ,  -4.7509017 ],\n",
       "       [  2.4698963 , -13.09883   ,  -5.0746555 , ...,   3.6244075 ,\n",
       "         -1.2865019 ,   3.6183176 ],\n",
       "       [ -4.2462463 ,  -2.346817  ,  -1.0922184 , ..., -10.641484  ,\n",
       "         -1.7647763 ,  -9.151585  ]], dtype=float32)"
      ]
     },
     "execution_count": 196,
     "metadata": {},
     "output_type": "execute_result"
    }
   ],
   "source": [
    "predictions = model.predict(input_x)\n",
    "predictions"
   ]
  },
  {
   "cell_type": "code",
   "execution_count": 212,
   "metadata": {},
   "outputs": [
    {
     "data": {
      "text/html": [
       "<div>\n",
       "<style scoped>\n",
       "    .dataframe tbody tr th:only-of-type {\n",
       "        vertical-align: middle;\n",
       "    }\n",
       "\n",
       "    .dataframe tbody tr th {\n",
       "        vertical-align: top;\n",
       "    }\n",
       "\n",
       "    .dataframe thead th {\n",
       "        text-align: right;\n",
       "    }\n",
       "</style>\n",
       "<table border=\"1\" class=\"dataframe\">\n",
       "  <thead>\n",
       "    <tr style=\"text-align: right;\">\n",
       "      <th></th>\n",
       "      <th>ImageId</th>\n",
       "      <th>Label</th>\n",
       "    </tr>\n",
       "  </thead>\n",
       "  <tbody>\n",
       "    <tr>\n",
       "      <th>0</th>\n",
       "      <td>1</td>\n",
       "      <td>2</td>\n",
       "    </tr>\n",
       "    <tr>\n",
       "      <th>1</th>\n",
       "      <td>2</td>\n",
       "      <td>0</td>\n",
       "    </tr>\n",
       "    <tr>\n",
       "      <th>2</th>\n",
       "      <td>3</td>\n",
       "      <td>4</td>\n",
       "    </tr>\n",
       "    <tr>\n",
       "      <th>3</th>\n",
       "      <td>4</td>\n",
       "      <td>3</td>\n",
       "    </tr>\n",
       "    <tr>\n",
       "      <th>4</th>\n",
       "      <td>5</td>\n",
       "      <td>2</td>\n",
       "    </tr>\n",
       "  </tbody>\n",
       "</table>\n",
       "</div>"
      ],
      "text/plain": [
       "   ImageId  Label\n",
       "0        1      2\n",
       "1        2      0\n",
       "2        3      4\n",
       "3        4      3\n",
       "4        5      2"
      ]
     },
     "execution_count": 212,
     "metadata": {},
     "output_type": "execute_result"
    }
   ],
   "source": [
    "ImageId = list(range(1, predictions.shape[0]+1))\n",
    "Label = list(np.argmax(predictions, axis=1))\n",
    "df_out = pd.DataFrame({'ImageId':ImageId, 'Label':Label})\n",
    "df_out.head()"
   ]
  },
  {
   "cell_type": "code",
   "execution_count": 216,
   "metadata": {},
   "outputs": [],
   "source": [
    "df_out.to_csv('digit-recognizer/submissions/submit0.csv', index=False)"
   ]
  }
 ],
 "metadata": {
  "kernelspec": {
   "display_name": "DLVenv",
   "language": "python",
   "name": "dlvenv"
  },
  "language_info": {
   "codemirror_mode": {
    "name": "ipython",
    "version": 3
   },
   "file_extension": ".py",
   "mimetype": "text/x-python",
   "name": "python",
   "nbconvert_exporter": "python",
   "pygments_lexer": "ipython3",
   "version": "3.8.3"
  }
 },
 "nbformat": 4,
 "nbformat_minor": 2
}
