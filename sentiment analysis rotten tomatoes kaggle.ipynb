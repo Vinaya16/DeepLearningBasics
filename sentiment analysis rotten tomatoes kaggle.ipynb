{
 "cells": [
  {
   "cell_type": "markdown",
   "metadata": {},
   "source": [
    "### download data from kaggle\n",
    "https://www.kaggle.com/c/sentiment-analysis-on-movie-reviews/data"
   ]
  },
  {
   "cell_type": "code",
   "execution_count": 1,
   "metadata": {},
   "outputs": [],
   "source": [
    "base_dir = 'sentiment-analysis-on-movie-reviews'"
   ]
  },
  {
   "cell_type": "code",
   "execution_count": 2,
   "metadata": {},
   "outputs": [],
   "source": [
    "train_file = f'{base_dir}/train.tsv'\n",
    "test_file = f'{base_dir}/test.tsv'"
   ]
  },
  {
   "cell_type": "code",
   "execution_count": 5,
   "metadata": {},
   "outputs": [
    {
     "data": {
      "text/plain": [
       "('sentiment-analysis-on-movie-reviews/train.tsv',\n",
       " 'sentiment-analysis-on-movie-reviews/test.tsv')"
      ]
     },
     "execution_count": 5,
     "metadata": {},
     "output_type": "execute_result"
    }
   ],
   "source": [
    "train_file, test_file"
   ]
  },
  {
   "cell_type": "markdown",
   "metadata": {},
   "source": [
    "### explore data"
   ]
  },
  {
   "cell_type": "code",
   "execution_count": 12,
   "metadata": {},
   "outputs": [],
   "source": [
    "import pandas as pd"
   ]
  },
  {
   "cell_type": "code",
   "execution_count": 13,
   "metadata": {},
   "outputs": [
    {
     "data": {
      "text/html": [
       "<div>\n",
       "<style scoped>\n",
       "    .dataframe tbody tr th:only-of-type {\n",
       "        vertical-align: middle;\n",
       "    }\n",
       "\n",
       "    .dataframe tbody tr th {\n",
       "        vertical-align: top;\n",
       "    }\n",
       "\n",
       "    .dataframe thead th {\n",
       "        text-align: right;\n",
       "    }\n",
       "</style>\n",
       "<table border=\"1\" class=\"dataframe\">\n",
       "  <thead>\n",
       "    <tr style=\"text-align: right;\">\n",
       "      <th></th>\n",
       "      <th>PhraseId</th>\n",
       "      <th>SentenceId</th>\n",
       "      <th>Phrase</th>\n",
       "      <th>Sentiment</th>\n",
       "    </tr>\n",
       "  </thead>\n",
       "  <tbody>\n",
       "    <tr>\n",
       "      <th>0</th>\n",
       "      <td>1</td>\n",
       "      <td>1</td>\n",
       "      <td>A series of escapades demonstrating the adage ...</td>\n",
       "      <td>1</td>\n",
       "    </tr>\n",
       "    <tr>\n",
       "      <th>1</th>\n",
       "      <td>2</td>\n",
       "      <td>1</td>\n",
       "      <td>A series of escapades demonstrating the adage ...</td>\n",
       "      <td>2</td>\n",
       "    </tr>\n",
       "    <tr>\n",
       "      <th>2</th>\n",
       "      <td>3</td>\n",
       "      <td>1</td>\n",
       "      <td>A series</td>\n",
       "      <td>2</td>\n",
       "    </tr>\n",
       "    <tr>\n",
       "      <th>3</th>\n",
       "      <td>4</td>\n",
       "      <td>1</td>\n",
       "      <td>A</td>\n",
       "      <td>2</td>\n",
       "    </tr>\n",
       "    <tr>\n",
       "      <th>4</th>\n",
       "      <td>5</td>\n",
       "      <td>1</td>\n",
       "      <td>series</td>\n",
       "      <td>2</td>\n",
       "    </tr>\n",
       "  </tbody>\n",
       "</table>\n",
       "</div>"
      ],
      "text/plain": [
       "   PhraseId  SentenceId                                             Phrase  \\\n",
       "0         1           1  A series of escapades demonstrating the adage ...   \n",
       "1         2           1  A series of escapades demonstrating the adage ...   \n",
       "2         3           1                                           A series   \n",
       "3         4           1                                                  A   \n",
       "4         5           1                                             series   \n",
       "\n",
       "   Sentiment  \n",
       "0          1  \n",
       "1          2  \n",
       "2          2  \n",
       "3          2  \n",
       "4          2  "
      ]
     },
     "execution_count": 13,
     "metadata": {},
     "output_type": "execute_result"
    }
   ],
   "source": [
    "train_df = pd.read_csv(train_file, sep='\\t')\n",
    "train_df.head()"
   ]
  },
  {
   "cell_type": "code",
   "execution_count": 14,
   "metadata": {
    "scrolled": true
   },
   "outputs": [
    {
     "data": {
      "text/plain": [
       "(156060, 4)"
      ]
     },
     "execution_count": 14,
     "metadata": {},
     "output_type": "execute_result"
    }
   ],
   "source": [
    "train_df.shape"
   ]
  },
  {
   "cell_type": "code",
   "execution_count": 22,
   "metadata": {
    "scrolled": true
   },
   "outputs": [
    {
     "data": {
      "text/plain": [
       "Sentiment\n",
       "0     7072\n",
       "1    27273\n",
       "2    79582\n",
       "3    32927\n",
       "4     9206\n",
       "Name: Sentiment, dtype: int64"
      ]
     },
     "execution_count": 22,
     "metadata": {},
     "output_type": "execute_result"
    }
   ],
   "source": [
    "train_df.groupby('Sentiment')['Sentiment'].count()"
   ]
  },
  {
   "cell_type": "code",
   "execution_count": 23,
   "metadata": {},
   "outputs": [
    {
     "data": {
      "text/plain": [
       "156060"
      ]
     },
     "execution_count": 23,
     "metadata": {},
     "output_type": "execute_result"
    }
   ],
   "source": [
    "train_df.PhraseId.nunique()"
   ]
  },
  {
   "cell_type": "code",
   "execution_count": 24,
   "metadata": {
    "scrolled": true
   },
   "outputs": [
    {
     "data": {
      "text/plain": [
       "SentenceId\n",
       "1       63\n",
       "2       18\n",
       "3       35\n",
       "4       40\n",
       "5       10\n",
       "        ..\n",
       "8540    13\n",
       "8541    24\n",
       "8542    10\n",
       "8543     8\n",
       "8544    21\n",
       "Name: SentenceId, Length: 8529, dtype: int64"
      ]
     },
     "execution_count": 24,
     "metadata": {},
     "output_type": "execute_result"
    }
   ],
   "source": [
    "train_df.groupby('SentenceId')['SentenceId'].count()"
   ]
  },
  {
   "cell_type": "code",
   "execution_count": 29,
   "metadata": {
    "scrolled": false
   },
   "outputs": [
    {
     "name": "stdout",
     "output_type": "stream",
     "text": [
      "A series of escapades demonstrating the adage that what is good for the goose is also good for the gander , some of which occasionally amuses but none of which amounts to much of a story .\n",
      "\n",
      "A series of escapades demonstrating the adage that what is good for the goose\n",
      "\n",
      "A series\n",
      "\n",
      "A\n",
      "\n",
      "series\n",
      "\n",
      "of escapades demonstrating the adage that what is good for the goose\n",
      "\n",
      "of\n",
      "\n",
      "escapades demonstrating the adage that what is good for the goose\n",
      "\n",
      "escapades\n",
      "\n",
      "demonstrating the adage that what is good for the goose\n",
      "\n",
      "demonstrating the adage\n",
      "\n",
      "demonstrating\n",
      "\n",
      "the adage\n",
      "\n",
      "the\n",
      "\n",
      "adage\n",
      "\n",
      "that what is good for the goose\n",
      "\n",
      "that\n",
      "\n",
      "what is good for the goose\n",
      "\n",
      "what\n",
      "\n",
      "is good for the goose\n",
      "\n",
      "is\n",
      "\n",
      "good for the goose\n",
      "\n",
      "good\n",
      "\n",
      "for the goose\n",
      "\n",
      "for\n",
      "\n",
      "the goose\n",
      "\n",
      "goose\n",
      "\n",
      "is also good for the gander , some of which occasionally amuses but none of which amounts to much of a story .\n",
      "\n",
      "is also good for the gander , some of which occasionally amuses but none of which amounts to much of a story\n",
      "\n",
      "is also\n",
      "\n",
      "also\n",
      "\n",
      "good for the gander , some of which occasionally amuses but none of which amounts to much of a story\n",
      "\n",
      "for the gander , some of which occasionally amuses but none of which amounts to much of a story\n",
      "\n",
      "the gander , some of which occasionally amuses but none of which amounts to much of a story\n",
      "\n",
      "the gander ,\n",
      "\n",
      "the gander\n",
      "\n",
      "gander\n",
      "\n",
      ",\n",
      "\n",
      "some of which occasionally amuses but none of which amounts to much of a story\n",
      "\n",
      "some of which\n",
      "\n",
      "some\n",
      "\n",
      "of which\n",
      "\n",
      "which\n",
      "\n",
      "occasionally amuses but none of which amounts to much of a story\n",
      "\n",
      "occasionally\n",
      "\n",
      "amuses but none of which amounts to much of a story\n",
      "\n",
      "amuses\n",
      "\n",
      "but none of which amounts to much of a story\n",
      "\n",
      "but\n",
      "\n",
      "none of which amounts to much of a story\n",
      "\n",
      "none\n",
      "\n",
      "of which amounts to much of a story\n",
      "\n",
      "which amounts to much of a story\n",
      "\n",
      "amounts to much of a story\n",
      "\n",
      "amounts\n",
      "\n",
      "to much of a story\n",
      "\n",
      "to\n",
      "\n",
      "much of a story\n",
      "\n",
      "much\n",
      "\n",
      "of a story\n",
      "\n",
      "a story\n",
      "\n",
      "story\n",
      "\n",
      ".\n"
     ]
    }
   ],
   "source": [
    "print('\\n\\n'.join(train_df.loc[train_df.SentenceId == 1, 'Phrase']))"
   ]
  }
 ],
 "metadata": {
  "kernelspec": {
   "display_name": "DLVenv",
   "language": "python",
   "name": "dlvenv"
  },
  "language_info": {
   "codemirror_mode": {
    "name": "ipython",
    "version": 3
   },
   "file_extension": ".py",
   "mimetype": "text/x-python",
   "name": "python",
   "nbconvert_exporter": "python",
   "pygments_lexer": "ipython3",
   "version": "3.8.5"
  }
 },
 "nbformat": 4,
 "nbformat_minor": 2
}
